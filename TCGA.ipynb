{
 "cells": [
  {
   "cell_type": "code",
   "execution_count": 1,
   "metadata": {},
   "outputs": [],
   "source": [
    "import pandas as pd"
   ]
  },
  {
   "cell_type": "code",
   "execution_count": 23,
   "metadata": {},
   "outputs": [],
   "source": [
    "ratios = (\n",
    "    pd.read_csv('data/TCGA.LUAD.MutSig.ratio.csv')\n",
    "    .dropna()\n",
    "    .assign(**{\n",
    "        \"Patient\": lambda x: x['Unnamed: 0'].str.slice(stop=12)\n",
    "    })\n",
    ")\n",
    "mutations = (\n",
    "    pd.read_excel('data/TCGAKRASMutations.xlsx', skiprows=8, usecols=1)\n",
    "    .dropna()\n",
    ")"
   ]
  },
  {
   "cell_type": "code",
   "execution_count": 24,
   "metadata": {},
   "outputs": [
    {
     "name": "stdout",
     "output_type": "stream",
     "text": [
      "<class 'pandas.core.frame.DataFrame'>\n",
      "Int64Index: 75 entries, 0 to 74\n",
      "Data columns (total 2 columns):\n",
      "Patient          75 non-null object\n",
      "KRAS Mutation    75 non-null object\n",
      "dtypes: object(2)\n",
      "memory usage: 1.8+ KB\n"
     ]
    }
   ],
   "source": [
    "mutations.info()"
   ]
  },
  {
   "cell_type": "code",
   "execution_count": 37,
   "metadata": {},
   "outputs": [
    {
     "name": "stdout",
     "output_type": "stream",
     "text": [
      "<class 'pandas.core.frame.DataFrame'>\n",
      "Int64Index: 75 entries, 0 to 74\n",
      "Data columns (total 31 columns):\n",
      "Patient              75 non-null object\n",
      "KRAS Mutation        75 non-null object\n",
      "Unnamed: 0           75 non-null object\n",
      "Signature.1A         75 non-null object\n",
      "Signature.1B         75 non-null object\n",
      "Signature.2          75 non-null object\n",
      "Signature.3          75 non-null object\n",
      "Signature.4          75 non-null object\n",
      "Signature.5          75 non-null object\n",
      "Signature.6          75 non-null object\n",
      "Signature.7          75 non-null object\n",
      "Signature.8          75 non-null object\n",
      "Signature.9          75 non-null object\n",
      "Signature.10         75 non-null object\n",
      "Signature.11         75 non-null object\n",
      "Signature.12         75 non-null object\n",
      "Signature.13         75 non-null object\n",
      "Signature.14         75 non-null object\n",
      "Signature.15         75 non-null object\n",
      "Signature.16         75 non-null object\n",
      "Signature.17         75 non-null object\n",
      "Signature.18         75 non-null object\n",
      "Signature.19         75 non-null object\n",
      "Signature.20         75 non-null object\n",
      "Signature.21         75 non-null object\n",
      "Signature.R1         75 non-null object\n",
      "Signature.R2         75 non-null object\n",
      "Signature.R3         75 non-null object\n",
      "Signature.U1         75 non-null object\n",
      "Signature.U2         75 non-null object\n",
      "Signature.unknown    75 non-null object\n",
      "dtypes: object(31)\n",
      "memory usage: 18.8+ KB\n"
     ]
    }
   ],
   "source": [
    "merged = mutations.merge(ratios, on='Patient', how='left').fillna('N/A')\n",
    "merged.info()"
   ]
  },
  {
   "cell_type": "code",
   "execution_count": 38,
   "metadata": {},
   "outputs": [],
   "source": [
    "merged[['Patient', 'Signature.2', 'Signature.13']].to_csv('TCGA.merged.csv', index=False)"
   ]
  },
  {
   "cell_type": "code",
   "execution_count": null,
   "metadata": {},
   "outputs": [],
   "source": []
  }
 ],
 "metadata": {
  "kernelspec": {
   "display_name": "Python 3",
   "language": "python",
   "name": "python3"
  },
  "language_info": {
   "codemirror_mode": {
    "name": "ipython",
    "version": 3
   },
   "file_extension": ".py",
   "mimetype": "text/x-python",
   "name": "python",
   "nbconvert_exporter": "python",
   "pygments_lexer": "ipython3",
   "version": "3.6.2"
  }
 },
 "nbformat": 4,
 "nbformat_minor": 2
}
